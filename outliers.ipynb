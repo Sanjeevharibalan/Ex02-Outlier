{
  "nbformat": 4,
  "nbformat_minor": 0,
  "metadata": {
    "colab": {
      "provenance": [],
      "authorship_tag": "ABX9TyOsebLZeyfzhdq4hy7Xnac2",
      "include_colab_link": true
    },
    "kernelspec": {
      "name": "python3",
      "display_name": "Python 3"
    },
    "language_info": {
      "name": "python"
    }
  },
  "cells": [
    {
      "cell_type": "markdown",
      "metadata": {
        "id": "view-in-github",
        "colab_type": "text"
      },
      "source": [
        "<a href=\"https://colab.research.google.com/github/Sanjeevharibalan/Ex02-Outlier/blob/main/outliers.ipynb\" target=\"_parent\"><img src=\"https://colab.research.google.com/assets/colab-badge.svg\" alt=\"Open In Colab\"/></a>"
      ]
    },
    {
      "cell_type": "code",
      "execution_count": 1,
      "metadata": {
        "id": "bQkqly6O7SAE"
      },
      "outputs": [],
      "source": [
        "import pandas as pd\n"
      ]
    },
    {
      "cell_type": "code",
      "source": [
        "df=pd.read_csv(\"/content/bhp.csv\")\n",
        "q1=df['price_per_sqft'].quantile(0.25)\n",
        "q3=df['price_per_sqft'].quantile(0.75)\n",
        "IQR=q3-q1\n",
        "df_new=df['price_per_sqft'][((df['price_per_sqft']>=q1-1.5*IQR)&(df['price_per_sqft']<=q3+1.5*IQR))]\n",
        "print(df['price_per_sqft'])"
      ],
      "metadata": {
        "colab": {
          "base_uri": "https://localhost:8080/"
        },
        "id": "wIYXSyU0-Brg",
        "outputId": "5564898c-6b88-46ec-ccea-76986dc36ce3"
      },
      "execution_count": 2,
      "outputs": [
        {
          "output_type": "stream",
          "name": "stdout",
          "text": [
            "0         3699\n",
            "1         4615\n",
            "2         4305\n",
            "3         6245\n",
            "4         4250\n",
            "         ...  \n",
            "13195     6689\n",
            "13196    11111\n",
            "13197     5258\n",
            "13198    10407\n",
            "13199     3090\n",
            "Name: price_per_sqft, Length: 13200, dtype: int64\n"
          ]
        }
      ]
    },
    {
      "cell_type": "code",
      "source": [
        "import scipy.stats as stats\n",
        "df['price_per_sqft']=stats.zscore(df['price_per_sqft'])\n",
        "print(df['price_per_sqft'])"
      ],
      "metadata": {
        "colab": {
          "base_uri": "https://localhost:8080/"
        },
        "id": "kzKmqWMU_KGO",
        "outputId": "aa8f7ec7-f5e5-4949-c14f-b8690771bcd3"
      },
      "execution_count": 3,
      "outputs": [
        {
          "output_type": "stream",
          "name": "stdout",
          "text": [
            "0       -0.039554\n",
            "1       -0.030971\n",
            "2       -0.033876\n",
            "3       -0.015698\n",
            "4       -0.034391\n",
            "           ...   \n",
            "13195   -0.011538\n",
            "13196    0.029897\n",
            "13197   -0.024946\n",
            "13198    0.023300\n",
            "13199   -0.045260\n",
            "Name: price_per_sqft, Length: 13200, dtype: float64\n"
          ]
        }
      ]
    },
    {
      "cell_type": "code",
      "source": [
        "df=pd.read_csv(\"/content/height_weight.csv\")\n",
        "q1=df['weight'].quantile(0.25)\n",
        "q3=df['weight'].quantile(0.75)\n",
        "IQR=q3-q1\n",
        "df_new=df['weight'][((df['weight']>=q1-1.5*IQR)&(df['weight']<=q3+1.5*IQR))]\n",
        "print(df['weight'])"
      ],
      "metadata": {
        "colab": {
          "base_uri": "https://localhost:8080/"
        },
        "id": "a1n0-uga_O22",
        "outputId": "8abbbf24-a488-4276-810d-0786fb57af4a"
      },
      "execution_count": 4,
      "outputs": [
        {
          "output_type": "stream",
          "name": "stdout",
          "text": [
            "0       241.893563\n",
            "1       162.310473\n",
            "2       212.740856\n",
            "3       220.042470\n",
            "4       206.349801\n",
            "           ...    \n",
            "9995    136.777454\n",
            "9996    170.867906\n",
            "9997    128.475319\n",
            "9998    163.852461\n",
            "9999    113.649103\n",
            "Name: weight, Length: 10000, dtype: float64\n"
          ]
        }
      ]
    },
    {
      "cell_type": "code",
      "source": [
        "df=pd.read_csv(\"/content/height_weight.csv\")\n",
        "q1=df['height'].quantile(0.25)\n",
        "q3=df['height'].quantile(0.75)\n",
        "IQR=q3-q1\n",
        "df_new=df['height'][((df['height']>=q1-1.5*IQR)&(df['height']<=q3+1.5*IQR))]\n",
        "print(df['height'])"
      ],
      "metadata": {
        "colab": {
          "base_uri": "https://localhost:8080/"
        },
        "id": "tsuNaAnR_TBd",
        "outputId": "6c93be33-454e-476a-f33b-62f353fc2f60"
      },
      "execution_count": 5,
      "outputs": [
        {
          "output_type": "stream",
          "name": "stdout",
          "text": [
            "0       73.847017\n",
            "1       68.781904\n",
            "2       74.110105\n",
            "3       71.730978\n",
            "4       69.881796\n",
            "          ...    \n",
            "9995    66.172652\n",
            "9996    67.067155\n",
            "9997    63.867992\n",
            "9998    69.034243\n",
            "9999    61.944246\n",
            "Name: height, Length: 10000, dtype: float64\n"
          ]
        }
      ]
    }
  ]
}